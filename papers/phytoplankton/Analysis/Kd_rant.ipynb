{
 "cells": [
  {
   "cell_type": "markdown",
   "id": "534bfa28-2b65-4c08-83f5-3a628bbbae61",
   "metadata": {},
   "source": [
    "# Ranting about $K_d$"
   ]
  },
  {
   "cell_type": "code",
   "execution_count": 10,
   "id": "3e658e99-8ee8-49ba-950c-a22c37073347",
   "metadata": {},
   "outputs": [],
   "source": [
    "# imports\n",
    "from importlib import reload\n",
    "from importlib.resources import files\n",
    "import os\n",
    "import numpy as np\n",
    "\n",
    "from scipy.optimize import curve_fit\n",
    "\n",
    "import pandas\n",
    "import seaborn as sns\n",
    "from matplotlib import pyplot as plt\n",
    "\n",
    "from scipy.interpolate import interp1d\n",
    "\n",
    "from ocpy.hydrolight import loisel23\n",
    "from ocpy.utils import plotting as oc_plotting\n",
    "from ocpy.satellites import pace as sat_pace\n",
    "from ocpy.water import absorption as water_abs\n",
    "\n",
    "from bing.models import anw as boring_anw\n",
    "from bing.models import bbnw as boring_bbnw\n",
    "from bing.models import utils as model_utils\n",
    "from bing.models import functions\n",
    "from bing import inference as big_inf\n",
    "from bing import rt as big_rt\n",
    "from bing import chisq_fit\n"
   ]
  },
  {
   "cell_type": "code",
   "execution_count": 2,
   "id": "8df5687e-b501-4f1c-b64b-d5de97a1eb45",
   "metadata": {},
   "outputs": [],
   "source": [
    "%matplotlib ipympl"
   ]
  },
  {
   "cell_type": "markdown",
   "id": "379bfb0e-fa4f-4d40-bb68-5a24fe3d1183",
   "metadata": {},
   "source": [
    "# Load up Loisel+2023 Hydrolight dataset\n",
    "\n",
    "## Using the full run (inelastic scattering) at Zenith"
   ]
  },
  {
   "cell_type": "code",
   "execution_count": 3,
   "id": "7d100be2-10ae-4213-9e6c-7dd6d483273f",
   "metadata": {},
   "outputs": [],
   "source": [
    "ds = loisel23.load_ds(4,0)"
   ]
  },
  {
   "cell_type": "code",
   "execution_count": 4,
   "id": "6374e8ff-2608-4148-a519-9cc30c791aa0",
   "metadata": {},
   "outputs": [],
   "source": [
    "l23_wave = ds.Lambda.data\n",
    "l23_Rrs = ds.Rrs.data\n",
    "all_a = ds.a.data\n",
    "all_b = ds.b.data\n",
    "all_bnw = ds.bnw.data\n",
    "all_bbnw = ds.bbnw.data\n",
    "all_bb = ds.bb.data\n",
    "all_adg = ds.ag.data + ds.ad.data\n",
    "all_ad = ds.ad.data\n",
    "all_ag = ds.ag.data\n",
    "all_aph = ds.aph.data\n",
    "all_anw = ds.anw.data\n",
    "#\n",
    "all_bw = all_b - all_bnw\n",
    "#\n",
    "all_bbd = ds.bbd.data\n",
    "all_bbph = ds.bbph.data"
   ]
  },
  {
   "cell_type": "code",
   "execution_count": 19,
   "id": "291542fb-eb5b-44ba-8231-4ed195102088",
   "metadata": {},
   "outputs": [],
   "source": [
    "l23_aw = all_a[0] - all_anw[0]\n",
    "l23_bbw = all_bb[0] - all_bbnw[0]"
   ]
  },
  {
   "cell_type": "code",
   "execution_count": 6,
   "id": "e8e0450e-b030-4668-ba80-f351ae2a3e5f",
   "metadata": {},
   "outputs": [
    {
     "data": {
      "text/plain": [
       "(3320, 81)"
      ]
     },
     "execution_count": 6,
     "metadata": {},
     "output_type": "execute_result"
    }
   ],
   "source": [
    "all_anw.shape"
   ]
  },
  {
   "cell_type": "code",
   "execution_count": 8,
   "id": "05f308d1-b93e-4b71-9bd8-877ad56b8dda",
   "metadata": {},
   "outputs": [
    {
     "data": {
      "text/plain": [
       "(350.0, 750.0)"
      ]
     },
     "execution_count": 8,
     "metadata": {},
     "output_type": "execute_result"
    }
   ],
   "source": [
    "l23_wave.min(), l23_wave.max()"
   ]
  },
  {
   "cell_type": "markdown",
   "id": "0b973b87-fe16-455d-b1ac-67b9bd918ff1",
   "metadata": {},
   "source": [
    "## Setup"
   ]
  },
  {
   "cell_type": "code",
   "execution_count": 18,
   "id": "4031b0fd-de42-4492-b5a1-ebfffeca1f33",
   "metadata": {},
   "outputs": [],
   "source": [
    "i350 = np.argmin(np.abs(l23_wave-350.))\n",
    "i440 = np.argmin(np.abs(l23_wave-440.))\n",
    "i750 = np.argmin(np.abs(l23_wave-750.))  # Should have been 780"
   ]
  },
  {
   "cell_type": "markdown",
   "id": "d39b99db-039d-4bbb-b914-9d648d2c5060",
   "metadata": {},
   "source": [
    "## More water"
   ]
  },
  {
   "cell_type": "code",
   "execution_count": 14,
   "id": "4c72d536-247a-4ffb-928a-316d80d1a4f7",
   "metadata": {},
   "outputs": [],
   "source": [
    "more_wave = np.arange(320., 781., 1.)\n",
    "aw = water_abs.a_water(more_wave)\n",
    "#\n",
    "i780 = np.argmin(np.abs(more_wave-780.))  "
   ]
  },
  {
   "cell_type": "markdown",
   "id": "a2b4a864-d4dd-4d50-81d0-9960752c4c8b",
   "metadata": {},
   "source": [
    "# Coefficients for Hooker+2013\n",
    "\n",
    "## Express their expression as:\n",
    "\n",
    "## $a_{\\rm CDOM}(440) = H_0 \\left [ \\frac{K_d(320)}{K_d(780)} \\right ] - H_1  \\;\\; [\\rm m^{-1}]$\n",
    "\n",
    "## with $H_0 = 0.293$ and $H_1 = 0.015$"
   ]
  },
  {
   "cell_type": "markdown",
   "id": "32754d84-4254-4188-922c-5443a571deef",
   "metadata": {},
   "source": [
    "## Starting with $H_0$"
   ]
  },
  {
   "cell_type": "code",
   "execution_count": 17,
   "id": "efaecb68-01dc-419a-af46-8d6335f4e9c1",
   "metadata": {},
   "outputs": [
    {
     "data": {
      "text/plain": [
       "2.6905"
      ]
     },
     "execution_count": 17,
     "metadata": {},
     "output_type": "execute_result"
    }
   ],
   "source": [
    "bb780 = 0.\n",
    "H_0 = aw[i780] + 4.18 * (1 - 0.52 * np.exp(-10.8*aw[i780])) * bb780\n",
    "H_0"
   ]
  },
  {
   "cell_type": "markdown",
   "id": "deed5037-9e64-4afc-9b59-9a42c8c339ca",
   "metadata": {},
   "source": [
    "### Hmm.. that's far off\n",
    "\n",
    "### What did I mess up??"
   ]
  },
  {
   "cell_type": "markdown",
   "id": "3ef7bf1d-fbec-438f-a619-6e87eb0dd005",
   "metadata": {},
   "source": [
    "## Now $H_1$\n",
    "\n",
    "### We will assume that water dominates back-scattering\n",
    "\n",
    "### And that $a_{\\rm CDOM}(320)$ is larger enough to ignore the term in the brackets"
   ]
  },
  {
   "cell_type": "markdown",
   "id": "b9f74b99-b683-43eb-aff0-8e34ee6ec37e",
   "metadata": {},
   "source": [
    "### I don't have the Zhang MatLab code ported to Python yet (bug)\n",
    "\n",
    "### So we'll use $b_{\\rm b,w}(350)$ from L23"
   ]
  },
  {
   "cell_type": "code",
   "execution_count": 20,
   "id": "069d8e4b-6c1f-4375-bb6d-a4c20e047134",
   "metadata": {},
   "outputs": [
    {
     "data": {
      "text/plain": [
       "0.02473431401886046"
      ]
     },
     "execution_count": 20,
     "metadata": {},
     "output_type": "execute_result"
    }
   ],
   "source": [
    "H1 = 4.18 * l23_bbw[i350]\n",
    "H1"
   ]
  },
  {
   "cell_type": "markdown",
   "id": "a95e219d-c154-491b-af94-439390b8e413",
   "metadata": {},
   "source": [
    "### That's about $2 \\times$ larger than Hooker+2013, but not a total \"disaster\""
   ]
  },
  {
   "cell_type": "code",
   "execution_count": null,
   "id": "e982b283-bef1-450d-88d8-1df00c0f799b",
   "metadata": {},
   "outputs": [],
   "source": []
  }
 ],
 "metadata": {
  "kernelspec": {
   "display_name": "Python 3 (ipykernel)",
   "language": "python",
   "name": "python3"
  },
  "language_info": {
   "codemirror_mode": {
    "name": "ipython",
    "version": 3
   },
   "file_extension": ".py",
   "mimetype": "text/x-python",
   "name": "python",
   "nbconvert_exporter": "python",
   "pygments_lexer": "ipython3",
   "version": "3.11.7"
  }
 },
 "nbformat": 4,
 "nbformat_minor": 5
}
